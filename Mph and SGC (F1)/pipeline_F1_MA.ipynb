{
 "cells": [
  {
   "cell_type": "code",
   "execution_count": 1,
   "id": "dc04c011",
   "metadata": {},
   "outputs": [],
   "source": [
    "import matplotlib.pyplot as plt\n",
    "import numpy as np\n",
    "import os\n",
    "import getinfo_F1_MA\n",
    "from tqdm.auto import tqdm\n",
    "import json"
   ]
  },
  {
   "cell_type": "code",
   "execution_count": 10,
   "id": "ce76a7f3",
   "metadata": {},
   "outputs": [],
   "source": [
    "def get_paths (rootdir): #directory unto the folder of the staining of interest\n",
    "    subdirs_L4CL = []\n",
    "    subdirs_L5CL = []\n",
    "    subdirs_L4IL = []\n",
    "    subdirs_L5IL = []\n",
    "    for subdir, dirs, files in os.walk(rootdir):\n",
    "        if subdir.endswith (\"CL\\L4\"): \n",
    "            subdirs_L4CL.append(subdir)\n",
    "            #print (subdir)\n",
    "        elif subdir.endswith('IL\\L4'):\n",
    "            subdirs_L4IL.append(subdir)\n",
    "            #print (subdir)\n",
    "        elif subdir.endswith('CL\\L5'):\n",
    "            subdirs_L5CL.append(subdir)\n",
    "            #print (subdir)\n",
    "        elif subdir.endswith('IL\\L5'):\n",
    "            subdirs_L5IL.append(subdir)\n",
    "            #print (subdir)\n",
    "    return {'L4CL':subdirs_L4CL, 'L4IL':subdirs_L4IL, 'L5CL':subdirs_L5CL, 'L5IL':subdirs_L5IL}"
   ]
  },
  {
   "cell_type": "code",
   "execution_count": 11,
   "id": "14edbd2c",
   "metadata": {},
   "outputs": [],
   "source": [
    "d7_cci = get_paths(r\"E:\\Immunfluoreszenz\\rDRG_CCI_d7\\Tifs\\1-NF_GFAP_Iba1\") "
   ]
  },
  {
   "cell_type": "code",
   "execution_count": 12,
   "id": "f69510ff",
   "metadata": {},
   "outputs": [],
   "source": [
    "#group = experiment group, e.g. d7_cci \n",
    "#name = name as string, will be used for saving the file\n",
    "def images_to_numbers(group, name):\n",
    "    results = []\n",
    "    for drg_group in tqdm(group):  \n",
    "            for subdir in tqdm(group[drg_group]):\n",
    "                data = getinfo_F1_2.ImageData(subdir)\n",
    "                results.append({\n",
    "                    \"group\":drg_group, #position of the DRG\n",
    "                    \"path\":subdir,\n",
    "                    \"iba1_per_neuronricharea\": data.iba1_per_nra_L,\n",
    "                    \"gfap_per_neuronricharea\": data.gfap_per_nra_L,\n",
    "                    \"iba1_anz\": data.iba1_anz_L, \n",
    "                    \"gfap_anz\": data.gfap_anz_L, \n",
    "                    \"neuronarea\": data.neuronarea_um_L, \n",
    "                    \"iba1_um\": data.iba1_um_L,\n",
    "                    \"gfap_um\": data.gfap_um_L\n",
    "            })\n",
    "    with open(name+\".json\", \"w\") as file:\n",
    "        file.write(json.dumps(results, indent=4))"
   ]
  },
  {
   "cell_type": "code",
   "execution_count": 13,
   "id": "b2ebca10",
   "metadata": {},
   "outputs": [
    {
     "data": {
      "application/vnd.jupyter.widget-view+json": {
       "model_id": "1b01dee590144074af577afb738dc5d4",
       "version_major": 2,
       "version_minor": 0
      },
      "text/plain": [
       "  0%|          | 0/4 [00:00<?, ?it/s]"
      ]
     },
     "metadata": {},
     "output_type": "display_data"
    },
    {
     "data": {
      "application/vnd.jupyter.widget-view+json": {
       "model_id": "c2052b339cd64ab6a88c4e57a374e9fb",
       "version_major": 2,
       "version_minor": 0
      },
      "text/plain": [
       "  0%|          | 0/6 [00:00<?, ?it/s]"
      ]
     },
     "metadata": {},
     "output_type": "display_data"
    },
    {
     "data": {
      "application/vnd.jupyter.widget-view+json": {
       "model_id": "953b410e04b8439896560293a7d738ff",
       "version_major": 2,
       "version_minor": 0
      },
      "text/plain": [
       "0it [00:00, ?it/s]"
      ]
     },
     "metadata": {},
     "output_type": "display_data"
    },
    {
     "data": {
      "application/vnd.jupyter.widget-view+json": {
       "model_id": "b144247585ee4602981e68264194c2e1",
       "version_major": 2,
       "version_minor": 0
      },
      "text/plain": [
       "0it [00:00, ?it/s]"
      ]
     },
     "metadata": {},
     "output_type": "display_data"
    },
    {
     "data": {
      "application/vnd.jupyter.widget-view+json": {
       "model_id": "80501cfde27f4fb99280c40cd842f7cb",
       "version_major": 2,
       "version_minor": 0
      },
      "text/plain": [
       "0it [00:00, ?it/s]"
      ]
     },
     "metadata": {},
     "output_type": "display_data"
    },
    {
     "data": {
      "application/vnd.jupyter.widget-view+json": {
       "model_id": "4ea85c1caefe4d77af48f8e1ac9e3255",
       "version_major": 2,
       "version_minor": 0
      },
      "text/plain": [
       "0it [00:00, ?it/s]"
      ]
     },
     "metadata": {},
     "output_type": "display_data"
    },
    {
     "data": {
      "application/vnd.jupyter.widget-view+json": {
       "model_id": "34b2d3c21cff4b20991eb5648679ef00",
       "version_major": 2,
       "version_minor": 0
      },
      "text/plain": [
       "0it [00:00, ?it/s]"
      ]
     },
     "metadata": {},
     "output_type": "display_data"
    },
    {
     "data": {
      "application/vnd.jupyter.widget-view+json": {
       "model_id": "29ca60a3f3c54b3d8c6a49c4c24bfc3f",
       "version_major": 2,
       "version_minor": 0
      },
      "text/plain": [
       "0it [00:00, ?it/s]"
      ]
     },
     "metadata": {},
     "output_type": "display_data"
    },
    {
     "data": {
      "application/vnd.jupyter.widget-view+json": {
       "model_id": "42426eafe1224784b79e930ca4bcc454",
       "version_major": 2,
       "version_minor": 0
      },
      "text/plain": [
       "  0%|          | 0/6 [00:00<?, ?it/s]"
      ]
     },
     "metadata": {},
     "output_type": "display_data"
    },
    {
     "data": {
      "application/vnd.jupyter.widget-view+json": {
       "model_id": "78efa9ede0544796ae921abfec86a25c",
       "version_major": 2,
       "version_minor": 0
      },
      "text/plain": [
       "0it [00:00, ?it/s]"
      ]
     },
     "metadata": {},
     "output_type": "display_data"
    },
    {
     "data": {
      "application/vnd.jupyter.widget-view+json": {
       "model_id": "b02230b979ec4d4e8bf2ff67c899fc71",
       "version_major": 2,
       "version_minor": 0
      },
      "text/plain": [
       "0it [00:00, ?it/s]"
      ]
     },
     "metadata": {},
     "output_type": "display_data"
    },
    {
     "data": {
      "application/vnd.jupyter.widget-view+json": {
       "model_id": "7ec4e45ac7e74ce58ade29b44be9cbd3",
       "version_major": 2,
       "version_minor": 0
      },
      "text/plain": [
       "0it [00:00, ?it/s]"
      ]
     },
     "metadata": {},
     "output_type": "display_data"
    },
    {
     "data": {
      "application/vnd.jupyter.widget-view+json": {
       "model_id": "83f22e9f6b2e478c8cda9a09e6c6bf27",
       "version_major": 2,
       "version_minor": 0
      },
      "text/plain": [
       "0it [00:00, ?it/s]"
      ]
     },
     "metadata": {},
     "output_type": "display_data"
    },
    {
     "data": {
      "application/vnd.jupyter.widget-view+json": {
       "model_id": "bba76a76c89344c081b37cf6569c2a89",
       "version_major": 2,
       "version_minor": 0
      },
      "text/plain": [
       "0it [00:00, ?it/s]"
      ]
     },
     "metadata": {},
     "output_type": "display_data"
    },
    {
     "data": {
      "application/vnd.jupyter.widget-view+json": {
       "model_id": "eb957ae0d89c4dda9bf8fcd327dce92f",
       "version_major": 2,
       "version_minor": 0
      },
      "text/plain": [
       "0it [00:00, ?it/s]"
      ]
     },
     "metadata": {},
     "output_type": "display_data"
    },
    {
     "data": {
      "application/vnd.jupyter.widget-view+json": {
       "model_id": "63cd59094a824cd2b733372766d44bc4",
       "version_major": 2,
       "version_minor": 0
      },
      "text/plain": [
       "  0%|          | 0/6 [00:00<?, ?it/s]"
      ]
     },
     "metadata": {},
     "output_type": "display_data"
    },
    {
     "data": {
      "application/vnd.jupyter.widget-view+json": {
       "model_id": "43a5cb9445aa4d649a2e2579f3bff31c",
       "version_major": 2,
       "version_minor": 0
      },
      "text/plain": [
       "0it [00:00, ?it/s]"
      ]
     },
     "metadata": {},
     "output_type": "display_data"
    },
    {
     "data": {
      "application/vnd.jupyter.widget-view+json": {
       "model_id": "ecc44efa8c5d4bc19b66b9c4f579a97d",
       "version_major": 2,
       "version_minor": 0
      },
      "text/plain": [
       "0it [00:00, ?it/s]"
      ]
     },
     "metadata": {},
     "output_type": "display_data"
    },
    {
     "data": {
      "application/vnd.jupyter.widget-view+json": {
       "model_id": "472dff74c61a435895c1aa4439805876",
       "version_major": 2,
       "version_minor": 0
      },
      "text/plain": [
       "0it [00:00, ?it/s]"
      ]
     },
     "metadata": {},
     "output_type": "display_data"
    },
    {
     "data": {
      "application/vnd.jupyter.widget-view+json": {
       "model_id": "b4dfe2706d52438a96cf1ad976fb28d9",
       "version_major": 2,
       "version_minor": 0
      },
      "text/plain": [
       "0it [00:00, ?it/s]"
      ]
     },
     "metadata": {},
     "output_type": "display_data"
    },
    {
     "data": {
      "application/vnd.jupyter.widget-view+json": {
       "model_id": "e893b7f5e88445de86824b4d800380b0",
       "version_major": 2,
       "version_minor": 0
      },
      "text/plain": [
       "0it [00:00, ?it/s]"
      ]
     },
     "metadata": {},
     "output_type": "display_data"
    },
    {
     "data": {
      "application/vnd.jupyter.widget-view+json": {
       "model_id": "b219b7c1dcca43d4b5f8e7d73dd2e27a",
       "version_major": 2,
       "version_minor": 0
      },
      "text/plain": [
       "0it [00:00, ?it/s]"
      ]
     },
     "metadata": {},
     "output_type": "display_data"
    },
    {
     "data": {
      "application/vnd.jupyter.widget-view+json": {
       "model_id": "6893ccc581f040fca65a8a6a032ebe7f",
       "version_major": 2,
       "version_minor": 0
      },
      "text/plain": [
       "  0%|          | 0/6 [00:00<?, ?it/s]"
      ]
     },
     "metadata": {},
     "output_type": "display_data"
    },
    {
     "data": {
      "application/vnd.jupyter.widget-view+json": {
       "model_id": "a1b1735326fd45adbc9a394535e6571f",
       "version_major": 2,
       "version_minor": 0
      },
      "text/plain": [
       "0it [00:00, ?it/s]"
      ]
     },
     "metadata": {},
     "output_type": "display_data"
    },
    {
     "data": {
      "application/vnd.jupyter.widget-view+json": {
       "model_id": "0b942f7380924c588945364f377bd62c",
       "version_major": 2,
       "version_minor": 0
      },
      "text/plain": [
       "0it [00:00, ?it/s]"
      ]
     },
     "metadata": {},
     "output_type": "display_data"
    },
    {
     "data": {
      "application/vnd.jupyter.widget-view+json": {
       "model_id": "ebfb8d1ee79f4e8aa061c6cb7bc35fa1",
       "version_major": 2,
       "version_minor": 0
      },
      "text/plain": [
       "0it [00:00, ?it/s]"
      ]
     },
     "metadata": {},
     "output_type": "display_data"
    },
    {
     "data": {
      "application/vnd.jupyter.widget-view+json": {
       "model_id": "b8e232cccc604eb880432366aa6afc85",
       "version_major": 2,
       "version_minor": 0
      },
      "text/plain": [
       "0it [00:00, ?it/s]"
      ]
     },
     "metadata": {},
     "output_type": "display_data"
    },
    {
     "data": {
      "application/vnd.jupyter.widget-view+json": {
       "model_id": "5c3780b564af4547903278479c28238b",
       "version_major": 2,
       "version_minor": 0
      },
      "text/plain": [
       "0it [00:00, ?it/s]"
      ]
     },
     "metadata": {},
     "output_type": "display_data"
    },
    {
     "data": {
      "application/vnd.jupyter.widget-view+json": {
       "model_id": "89ff0130021e4e7cbf3644b8f9fe7233",
       "version_major": 2,
       "version_minor": 0
      },
      "text/plain": [
       "0it [00:00, ?it/s]"
      ]
     },
     "metadata": {},
     "output_type": "display_data"
    }
   ],
   "source": [
    "images_to_numbers (d7_cci , \"F1_CCI_d7\")"
   ]
  },
  {
   "cell_type": "code",
   "execution_count": null,
   "id": "95065b2a",
   "metadata": {},
   "outputs": [],
   "source": []
  }
 ],
 "metadata": {
  "kernelspec": {
   "display_name": "Python 3",
   "language": "python",
   "name": "python3"
  },
  "language_info": {
   "codemirror_mode": {
    "name": "ipython",
    "version": 3
   },
   "file_extension": ".py",
   "mimetype": "text/x-python",
   "name": "python",
   "nbconvert_exporter": "python",
   "pygments_lexer": "ipython3",
   "version": "3.8.8"
  }
 },
 "nbformat": 4,
 "nbformat_minor": 5
}
