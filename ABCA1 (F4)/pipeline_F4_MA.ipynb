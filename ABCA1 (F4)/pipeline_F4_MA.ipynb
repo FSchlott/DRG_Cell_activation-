{
 "cells": [
  {
   "cell_type": "code",
   "execution_count": 1,
   "id": "dc04c011",
   "metadata": {},
   "outputs": [],
   "source": [
    "import matplotlib.pyplot as plt\n",
    "import numpy as np\n",
    "import os\n",
    "import getinfo_F4_MA\n",
    "from tqdm.auto import tqdm\n",
    "import json"
   ]
  },
  {
   "cell_type": "code",
   "execution_count": 2,
   "id": "ce76a7f3",
   "metadata": {},
   "outputs": [],
   "source": [
    "\n",
    "rootdir = r\"E:\\Immunfluoreszenz\\rDRG_CCI_d7\\Tifs\\4-IB4_ABCA1_GS\"  \n",
    "def get_paths (rootdir):\n",
    "    subdirs_L4CL = []\n",
    "    subdirs_L5CL = []\n",
    "    subdirs_L4IL = []\n",
    "    subdirs_L5IL = []\n",
    "    for subdir, dirs, files in os.walk(rootdir):\n",
    "        if subdir.endswith (\"CL\\L4\"): \n",
    "            subdirs_L4CL.append(subdir)\n",
    "            #print (subdir)\n",
    "        elif subdir.endswith('IL\\L4'):\n",
    "            subdirs_L4IL.append(subdir)\n",
    "            #print (subdir)\n",
    "        elif subdir.endswith('CL\\L5'):\n",
    "            subdirs_L5CL.append(subdir)\n",
    "            #print (subdir)\n",
    "        elif subdir.endswith('IL\\L5'):\n",
    "            subdirs_L5IL.append(subdir)\n",
    "             #print (subdir)\n",
    "    return {'L4CL':subdirs_L4CL, 'L4IL':subdirs_L4IL, 'L5CL':subdirs_L5CL, 'L5IL':subdirs_L5IL}"
   ]
  },
  {
   "cell_type": "code",
   "execution_count": 3,
   "id": "14edbd2c",
   "metadata": {},
   "outputs": [],
   "source": [
    "d7_cci = get_paths(rootdir)"
   ]
  },
  {
   "cell_type": "code",
   "execution_count": 4,
   "id": "f69510ff",
   "metadata": {},
   "outputs": [],
   "source": [
    "#group = experimental group as defined above\n",
    "#name = string that will name the file \n",
    "def images_to_numbers(group, name):\n",
    "    results = []\n",
    "    for drg_group in tqdm(group):    \n",
    "        for subdir in tqdm(group[drg_group]):\n",
    "            try:\n",
    "                data = getinfo_F4.ImageData(subdir)\n",
    "                results.append({\n",
    "                    \"group\":drg_group,\n",
    "                    \"path\":subdir,\n",
    "                    \"abca1_area\": data.abca1_area_L,\n",
    "                    \"abca1_intensity\": data.abca1_intensity_L,\n",
    "                    \"abca1_intensity_per_area\": data.abca1_intensity_per_area_L,\n",
    "                    \"gs_area\": data.abca1_area_L,\n",
    "                    \"gs_intensity\": data.gs_intensity_L, \n",
    "                    \"gs_intensity_per_area\": data.gs_intensity_per_area_L,\n",
    "                    \"ib4_area\": data.abca1_area_L,\n",
    "                    \"ib4_intensity\": data.ib4_intensity_L,\n",
    "                    \"ib4_intensity_per_area\": data.ib4_intensity_per_area_L, \n",
    "                    \"abca1_only_area\": data.abca1_only_area_L,\n",
    "                    \"abca1_only_intensity\": data.abca1_only_intensity_L,\n",
    "                    \"abca1_only_intensity_per_area\": data.abca1_only_intensity_per_area_L,\n",
    "                    \"abca1_gs_ov_intensity\": data.abca1_gs_ov_intensity_L, \n",
    "                    \"abca1_gs_ov_intensity_per_area\": data.abca1_gs_ov_intensity_per_area_L,\n",
    "\n",
    "                    \"gs_expressing_abca1\": data.gs_expressing_abca1_L, \n",
    "                    \"abca1_expressing_gs\": data.abca1_expressing_gs_L,\n",
    "                    \n",
    "                    \"gs_per_nra\": data.gs_per_nra_L,\n",
    "                    \n",
    "                    \"abca1_anz\": data.abca1_anz_L,\n",
    "                    \"abca1_sizes\": data.abca1_sizes_L,\n",
    "                    \"gs_anz\": data.gs_anz_L,\n",
    "                    \"gs_sizes\": data.gs_sizes_L,\n",
    "                    \"ib4_anz\": data.ib4_anz_L,\n",
    "                    \"ib4_sizes\": data.ib4_sizes_L\n",
    "                    \n",
    "                })\n",
    "            except:\n",
    "                pass\n",
    "    with open(name+\".json\", \"w\") as file:\n",
    "        file.write(json.dumps(results, indent=4))\n"
   ]
  },
  {
   "cell_type": "code",
   "execution_count": 5,
   "id": "b2ebca10",
   "metadata": {},
   "outputs": [
    {
     "data": {
      "application/vnd.jupyter.widget-view+json": {
       "model_id": "e79e4855e3b544949e459980feef957f",
       "version_major": 2,
       "version_minor": 0
      },
      "text/plain": [
       "  0%|          | 0/4 [00:00<?, ?it/s]"
      ]
     },
     "metadata": {},
     "output_type": "display_data"
    },
    {
     "data": {
      "application/vnd.jupyter.widget-view+json": {
       "model_id": "4be98135867d437d9fd816c1d036f9aa",
       "version_major": 2,
       "version_minor": 0
      },
      "text/plain": [
       "  0%|          | 0/6 [00:00<?, ?it/s]"
      ]
     },
     "metadata": {},
     "output_type": "display_data"
    },
    {
     "data": {
      "application/vnd.jupyter.widget-view+json": {
       "model_id": "737469581a1343a2b3a04e76ca573fe1",
       "version_major": 2,
       "version_minor": 0
      },
      "text/plain": [
       "0it [00:00, ?it/s]"
      ]
     },
     "metadata": {},
     "output_type": "display_data"
    },
    {
     "data": {
      "application/vnd.jupyter.widget-view+json": {
       "model_id": "f0503c23168d40ce8d9a4784eac24ba4",
       "version_major": 2,
       "version_minor": 0
      },
      "text/plain": [
       "0it [00:00, ?it/s]"
      ]
     },
     "metadata": {},
     "output_type": "display_data"
    },
    {
     "data": {
      "application/vnd.jupyter.widget-view+json": {
       "model_id": "28564d16d75a4861b44f1af3b20e0e67",
       "version_major": 2,
       "version_minor": 0
      },
      "text/plain": [
       "0it [00:00, ?it/s]"
      ]
     },
     "metadata": {},
     "output_type": "display_data"
    },
    {
     "data": {
      "application/vnd.jupyter.widget-view+json": {
       "model_id": "0a55d65a685a4231b8941997e6beeddc",
       "version_major": 2,
       "version_minor": 0
      },
      "text/plain": [
       "0it [00:00, ?it/s]"
      ]
     },
     "metadata": {},
     "output_type": "display_data"
    },
    {
     "data": {
      "application/vnd.jupyter.widget-view+json": {
       "model_id": "ac1bfcc2b83f4cfeac5e239281fed89a",
       "version_major": 2,
       "version_minor": 0
      },
      "text/plain": [
       "0it [00:00, ?it/s]"
      ]
     },
     "metadata": {},
     "output_type": "display_data"
    },
    {
     "data": {
      "application/vnd.jupyter.widget-view+json": {
       "model_id": "744b75c38b954643b6a2b2345c0f4ec1",
       "version_major": 2,
       "version_minor": 0
      },
      "text/plain": [
       "0it [00:00, ?it/s]"
      ]
     },
     "metadata": {},
     "output_type": "display_data"
    },
    {
     "data": {
      "application/vnd.jupyter.widget-view+json": {
       "model_id": "eb54bcce162b402d94f4a433e815841b",
       "version_major": 2,
       "version_minor": 0
      },
      "text/plain": [
       "  0%|          | 0/6 [00:00<?, ?it/s]"
      ]
     },
     "metadata": {},
     "output_type": "display_data"
    },
    {
     "data": {
      "application/vnd.jupyter.widget-view+json": {
       "model_id": "3b1dabb3092c4addb5c31c4b9a8d9922",
       "version_major": 2,
       "version_minor": 0
      },
      "text/plain": [
       "0it [00:00, ?it/s]"
      ]
     },
     "metadata": {},
     "output_type": "display_data"
    },
    {
     "data": {
      "application/vnd.jupyter.widget-view+json": {
       "model_id": "2f4a4fd0360b4ae48652b65541a5a70e",
       "version_major": 2,
       "version_minor": 0
      },
      "text/plain": [
       "0it [00:00, ?it/s]"
      ]
     },
     "metadata": {},
     "output_type": "display_data"
    },
    {
     "data": {
      "application/vnd.jupyter.widget-view+json": {
       "model_id": "3991915b86cb4cefb9beb97308a2263a",
       "version_major": 2,
       "version_minor": 0
      },
      "text/plain": [
       "0it [00:00, ?it/s]"
      ]
     },
     "metadata": {},
     "output_type": "display_data"
    },
    {
     "data": {
      "application/vnd.jupyter.widget-view+json": {
       "model_id": "67cf5382fc4048dc8fa0d82d18e6f356",
       "version_major": 2,
       "version_minor": 0
      },
      "text/plain": [
       "0it [00:00, ?it/s]"
      ]
     },
     "metadata": {},
     "output_type": "display_data"
    },
    {
     "data": {
      "application/vnd.jupyter.widget-view+json": {
       "model_id": "b19a930e3b2c40e991346b6047cd2944",
       "version_major": 2,
       "version_minor": 0
      },
      "text/plain": [
       "0it [00:00, ?it/s]"
      ]
     },
     "metadata": {},
     "output_type": "display_data"
    },
    {
     "data": {
      "application/vnd.jupyter.widget-view+json": {
       "model_id": "95639394e4e7499399743eafb441a030",
       "version_major": 2,
       "version_minor": 0
      },
      "text/plain": [
       "0it [00:00, ?it/s]"
      ]
     },
     "metadata": {},
     "output_type": "display_data"
    },
    {
     "data": {
      "application/vnd.jupyter.widget-view+json": {
       "model_id": "4db3db5a30034c2fa9ebdbb42e7493d0",
       "version_major": 2,
       "version_minor": 0
      },
      "text/plain": [
       "  0%|          | 0/6 [00:00<?, ?it/s]"
      ]
     },
     "metadata": {},
     "output_type": "display_data"
    },
    {
     "data": {
      "application/vnd.jupyter.widget-view+json": {
       "model_id": "c556a1c743944d62a3109e9c843822f4",
       "version_major": 2,
       "version_minor": 0
      },
      "text/plain": [
       "0it [00:00, ?it/s]"
      ]
     },
     "metadata": {},
     "output_type": "display_data"
    },
    {
     "data": {
      "application/vnd.jupyter.widget-view+json": {
       "model_id": "06a2abee93454ff7aff581a4e1896e01",
       "version_major": 2,
       "version_minor": 0
      },
      "text/plain": [
       "0it [00:00, ?it/s]"
      ]
     },
     "metadata": {},
     "output_type": "display_data"
    },
    {
     "data": {
      "application/vnd.jupyter.widget-view+json": {
       "model_id": "ec83b1546307480baaf2765f671aa2be",
       "version_major": 2,
       "version_minor": 0
      },
      "text/plain": [
       "0it [00:00, ?it/s]"
      ]
     },
     "metadata": {},
     "output_type": "display_data"
    },
    {
     "data": {
      "application/vnd.jupyter.widget-view+json": {
       "model_id": "3d5643e60e5047fabc1b332f8cbe28a8",
       "version_major": 2,
       "version_minor": 0
      },
      "text/plain": [
       "0it [00:00, ?it/s]"
      ]
     },
     "metadata": {},
     "output_type": "display_data"
    },
    {
     "data": {
      "application/vnd.jupyter.widget-view+json": {
       "model_id": "a19fac2d9cc44a47b580f826d8e404f7",
       "version_major": 2,
       "version_minor": 0
      },
      "text/plain": [
       "0it [00:00, ?it/s]"
      ]
     },
     "metadata": {},
     "output_type": "display_data"
    },
    {
     "data": {
      "application/vnd.jupyter.widget-view+json": {
       "model_id": "c0e1716282bd4f3ba6782109440aff15",
       "version_major": 2,
       "version_minor": 0
      },
      "text/plain": [
       "0it [00:00, ?it/s]"
      ]
     },
     "metadata": {},
     "output_type": "display_data"
    },
    {
     "data": {
      "application/vnd.jupyter.widget-view+json": {
       "model_id": "f3636f879f4444d7a41e3b0ee3391a24",
       "version_major": 2,
       "version_minor": 0
      },
      "text/plain": [
       "  0%|          | 0/6 [00:00<?, ?it/s]"
      ]
     },
     "metadata": {},
     "output_type": "display_data"
    },
    {
     "data": {
      "application/vnd.jupyter.widget-view+json": {
       "model_id": "f50e6e331f5e45f5b85feefa6a80bb27",
       "version_major": 2,
       "version_minor": 0
      },
      "text/plain": [
       "0it [00:00, ?it/s]"
      ]
     },
     "metadata": {},
     "output_type": "display_data"
    },
    {
     "data": {
      "application/vnd.jupyter.widget-view+json": {
       "model_id": "870978ddffb14f18bfc74f95a04393e6",
       "version_major": 2,
       "version_minor": 0
      },
      "text/plain": [
       "0it [00:00, ?it/s]"
      ]
     },
     "metadata": {},
     "output_type": "display_data"
    },
    {
     "name": "stderr",
     "output_type": "stream",
     "text": [
      "E:\\Bildauswertung\\Auswertung_F4\\getinfo_F4.py:132: RuntimeWarning: invalid value encountered in true_divide\n",
      "  intensity_per_area = intensity_sum / area\n"
     ]
    },
    {
     "data": {
      "application/vnd.jupyter.widget-view+json": {
       "model_id": "215a29c3a2264d8c9db2255bf914839c",
       "version_major": 2,
       "version_minor": 0
      },
      "text/plain": [
       "0it [00:00, ?it/s]"
      ]
     },
     "metadata": {},
     "output_type": "display_data"
    },
    {
     "data": {
      "application/vnd.jupyter.widget-view+json": {
       "model_id": "0d1e3df12ed4474e882c63d32a62be96",
       "version_major": 2,
       "version_minor": 0
      },
      "text/plain": [
       "0it [00:00, ?it/s]"
      ]
     },
     "metadata": {},
     "output_type": "display_data"
    },
    {
     "data": {
      "application/vnd.jupyter.widget-view+json": {
       "model_id": "c3c7d73d1fb34975bf69ff763e95d62a",
       "version_major": 2,
       "version_minor": 0
      },
      "text/plain": [
       "0it [00:00, ?it/s]"
      ]
     },
     "metadata": {},
     "output_type": "display_data"
    },
    {
     "data": {
      "application/vnd.jupyter.widget-view+json": {
       "model_id": "32aabb26ea8e4d3c9ed288d0d754256b",
       "version_major": 2,
       "version_minor": 0
      },
      "text/plain": [
       "0it [00:00, ?it/s]"
      ]
     },
     "metadata": {},
     "output_type": "display_data"
    }
   ],
   "source": [
    "images_to_numbers (d7_cci , \"F4_CCI_d7\")"
   ]
  },
  {
   "cell_type": "code",
   "execution_count": null,
   "id": "c57b4c08",
   "metadata": {},
   "outputs": [],
   "source": []
  }
 ],
 "metadata": {
  "kernelspec": {
   "display_name": "Python 3",
   "language": "python",
   "name": "python3"
  },
  "language_info": {
   "codemirror_mode": {
    "name": "ipython",
    "version": 3
   },
   "file_extension": ".py",
   "mimetype": "text/x-python",
   "name": "python",
   "nbconvert_exporter": "python",
   "pygments_lexer": "ipython3",
   "version": "3.8.8"
  }
 },
 "nbformat": 4,
 "nbformat_minor": 5
}
