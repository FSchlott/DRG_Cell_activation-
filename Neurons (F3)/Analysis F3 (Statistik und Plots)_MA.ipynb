{
 "cells": [
  {
   "cell_type": "code",
   "execution_count": 9,
   "id": "81c9d898",
   "metadata": {},
   "outputs": [],
   "source": [
    "import pandas as pd\n",
    "import numpy as np\n",
    "import matplotlib.pyplot as plt\n",
    "import json\n",
    "import seaborn as sns\n",
    "from scipy import stats\n",
    "import analysis_perDRG_F3_MA #my means per DRG file\n",
    "import scikit_posthocs as sp"
   ]
  },
  {
   "cell_type": "code",
   "execution_count": 10,
   "id": "48072997",
   "metadata": {},
   "outputs": [],
   "source": [
    "name = \"D7_CCI_F3_\"\n",
    "#open json file with data lists from all images\n",
    "with open (\"F3_CCI_d7.json\") as f:\n",
    "    results_d7cci = json.load (f)"
   ]
  },
  {
   "cell_type": "code",
   "execution_count": 11,
   "id": "54d05e70",
   "metadata": {},
   "outputs": [],
   "source": [
    "#implement / access file for mean calculations --> groups of IL and CL side\n",
    "d7cci_il = analysis_perDRG_F3.GroupData (results_d7cci, \"IL\" , anz_rats = 6)\n",
    "d7cci_cl = analysis_perDRG_F3.GroupData (results_d7cci, \"CL\" , anz_rats = 6)"
   ]
  },
  {
   "cell_type": "code",
   "execution_count": 22,
   "id": "19b49f88",
   "metadata": {},
   "outputs": [],
   "source": [
    "def statistic (groupdata_il , groupdata_cl):\n",
    "    #test for normal distribution \n",
    "    statistic, p_value_il = stats.shapiro(groupdata_il)\n",
    "    statistic, p_value_cl = stats.shapiro(groupdata_cl)\n",
    "    \n",
    "    if (p_value_il < 0.05) or (p_value_cl < 0.05):\n",
    "        #no normal distribution\n",
    "        #--> Mann Whitney U test  \n",
    "        statistic, p_value = stats.mannwhitneyu(groupdata_il, groupdata_cl, alternative='two-sided') \n",
    "        print('Mann Whitney U: p-value='+\"{:.5f}\".format(p_value))\n",
    "    else: #normal distribution --> test variance\n",
    "        statistic, p_value = stats.bartlett (groupdata_il, groupdata_cl)\n",
    "        if p_value < 0.05:\n",
    "            # no equal variance\n",
    "            equal_variance = False\n",
    "            print('Welch-test')\n",
    "        else: \n",
    "            equal_variance = True\n",
    "            print('t-test')\n",
    "        # perform t-test\n",
    "        statistic, p_value = stats.ttest_ind(groupdata_il, groupdata_cl, equal_var=equal_variance, nan_policy='omit')\n",
    "        print('p-value='+\"{:.5f}\".format(p_value))"
   ]
  },
  {
   "cell_type": "code",
   "execution_count": 6,
   "id": "e8c09f96",
   "metadata": {},
   "outputs": [],
   "source": [
    "def quickplot (group_il , group_cl , feature):\n",
    "    group_il_data = getattr (d7cci_il, feature)\n",
    "    group_cl_data = getattr (d7cci_cl, feature)\n",
    "    \n",
    "    statistic(group_il_data, group_cl_data)\n",
    "    \n",
    "    plt.figure (figsize = (4,6))\n",
    "    sns.boxplot(data=[group_il_data, group_cl_data])\n",
    "    sns.stripplot(data=[group_il_data, group_cl_data], jitter=0.2)\n",
    "    ax = plt.gca()\n",
    "    ax.set_xticklabels([group_il.name, group_cl.name], fontsize=16)\n",
    "    plt.ylabel(feature, fontsize=16)\n",
    "    plt.show()"
   ]
  },
  {
   "cell_type": "code",
   "execution_count": 7,
   "id": "00dcd8f8",
   "metadata": {},
   "outputs": [
    {
     "name": "stdout",
     "output_type": "stream",
     "text": [
      "Mann Whitney U: p-value=0.00004\n"
     ]
    },
    {
     "data": {
      "image/png": "[encoded data removed]",
      "text/plain": [
       "<Figure size 288x432 with 1 Axes>"
      ]
     },
     "metadata": {
      "needs_background": "light"
     },
     "output_type": "display_data"
    }
   ],
   "source": [
    "quickplot (d7cci_il , d7cci_cl, \"atf3_per_nf_allrats\")"
   ]
  },
  {
   "cell_type": "code",
   "execution_count": 8,
   "id": "d1a7e693",
   "metadata": {},
   "outputs": [
    {
     "name": "stdout",
     "output_type": "stream",
     "text": [
      "Mann Whitney U: p-value=0.00004\n"
     ]
    },
    {
     "data": {
      "image/png": "[encoded data removed]",
      "text/plain": [
       "<Figure size 288x432 with 1 Axes>"
      ]
     },
     "metadata": {
      "needs_background": "light"
     },
     "output_type": "display_data"
    }
   ],
   "source": [
    "quickplot (d7cci_il , d7cci_cl, \"atf3_anz_allrats\")"
   ]
  },
  {
   "cell_type": "code",
   "execution_count": 36,
   "id": "413f3ba5",
   "metadata": {},
   "outputs": [],
   "source": [
    "def plot_all(feature_a, feature_b, ylabel):\n",
    "    group_il_data_a = getattr (d7cci_il, feature_a)\n",
    "    group_cl_data_a = getattr (d7cci_cl, feature_a)    \n",
    "    group_il_data_b = getattr (d7cci_il, feature_b)\n",
    "    group_cl_data_b = getattr (d7cci_cl, feature_b)     \n",
    "    \n",
    "    print (statistic (group_il_data_a, group_cl_data_a))\n",
    "    print (statistic (group_il_data_b, group_cl_data_b))\n",
    "    print (statistic (group_il_data_a, group_il_data_b))\n",
    "    \n",
    "    plt.figure(figsize=(9,9))\n",
    "    labels=['per NF CL', 'per NF IL', 'per IB4 CL', 'per IB4 IL']\n",
    "\n",
    "    c='k'\n",
    "    alpha=1\n",
    "    standard_props = {\"color\":c, \"alpha\":alpha, \"linewidth\":3}\n",
    "    markers= ['D','o']\n",
    "    line_props = standard_props\n",
    "    bbox_props = {**standard_props, 'facecolor': 'w', 'edgecolor':c} #dict(edgecolor=c, alpha=alpha, linewidth=5, facecolor='w')\n",
    "    median_props = standard_props\n",
    "    cap_props = standard_props\n",
    "    linewidth = 3\n",
    "    fontsize = 24\n",
    "    ax = plt.gca()\n",
    "    ax.spines[\"top\"].set_visible(False)\n",
    "    ax.spines[\"right\"].set_visible(False)\n",
    "    ax.spines['left'].set_linewidth(linewidth)\n",
    "    ax.spines['bottom'].set_linewidth(linewidth)\n",
    "    ax.tick_params(length=10, width=linewidth)\n",
    "    ax.set_ylim ([-1 , 55.0])\n",
    "    plt.xticks(fontname=\"Arial\", fontsize=fontsize)\n",
    "    plt.yticks(fontname=\"Arial\", fontsize=fontsize)\n",
    "\n",
    "\n",
    "    plt.ylabel(ylabel, fontname=\"Arial\", fontsize=28)\n",
    "\n",
    "    \n",
    "\n",
    "    sns.boxplot(data=[group_cl_data_a, group_il_data_a, group_cl_data_b, group_il_data_b], width=0.5, whiskerprops=line_props, boxprops=bbox_props\n",
    "                ,capprops=cap_props, medianprops=median_props, fliersize=0)\n",
    "    sns.stripplot(data=[group_cl_data_a, group_il_data_a, group_cl_data_b, group_il_data_b], jitter=0.1, dodge=True, size=7, marker='o', palette='tab20')\n",
    "    \n",
    "    ax.set_xticklabels(labels, fontname=\"Arial\", fontsize=22)\n",
    "    \n",
    "    plt.savefig(name+ylabel+'.png', bbox_inches = \"tight\")\n",
    "    plt.show()"
   ]
  },
  {
   "cell_type": "code",
   "execution_count": 37,
   "id": "52688748",
   "metadata": {},
   "outputs": [
    {
     "name": "stdout",
     "output_type": "stream",
     "text": [
      "Mann Whitney U: p-value=0.00004\n",
      "None\n",
      "Mann Whitney U: p-value=0.00009\n",
      "None\n",
      "Mann Whitney U: p-value=0.00165\n",
      "None\n"
     ]
    },
    {
     "data": {
      "image/png": "[encoded data removed]",
      "text/plain": [
       "<Figure size 648x648 with 1 Axes>"
      ]
     },
     "metadata": {
      "needs_background": "light"
     },
     "output_type": "display_data"
    }
   ],
   "source": [
    "plot_all (\"atf3_per_nf_allrats\", \"atf3_per_ib4_allrats\", \"ATF3 in neuron subtypes (%)\")"
   ]
  },
  {
   "cell_type": "code",
   "execution_count": 10,
   "id": "2473f899",
   "metadata": {},
   "outputs": [],
   "source": [
    "def stat_all(feature_a, feature_b, ylabel):\n",
    "    group_il_data_a = getattr (d7cci_il, feature_a)\n",
    "    group_cl_data_a = getattr (d7cci_cl, feature_a)    \n",
    "    group_il_data_b = getattr (d7cci_il, feature_b)\n",
    "    group_cl_data_b = getattr (d7cci_cl, feature_b)     \n",
    "    \n",
    "    print (statistic (group_il_data_a, group_cl_data_a))\n",
    "    print (statistic (group_il_data_b, group_cl_data_b))\n",
    "    print (statistic (group_il_data_a, group_il_data_b))"
   ]
  },
  {
   "cell_type": "code",
   "execution_count": 11,
   "id": "975346cf",
   "metadata": {},
   "outputs": [
    {
     "name": "stdout",
     "output_type": "stream",
     "text": [
      "Mann Whitney U: p-value=0.00004\n",
      "None\n",
      "Mann Whitney U: p-value=0.00009\n",
      "None\n",
      "Mann Whitney U: p-value=0.00165\n",
      "None\n"
     ]
    }
   ],
   "source": [
    "stat_all (\"atf3_per_nf_allrats\", \"atf3_per_ib4_allrats\", \"ATF3 in neuron subtypes (%)\")"
   ]
  },
  {
   "cell_type": "code",
   "execution_count": 11,
   "id": "f7c236f8",
   "metadata": {},
   "outputs": [
    {
     "name": "stdout",
     "output_type": "stream",
     "text": [
      "mean IL 25.455794396467848\n",
      "mean CL 0.24858057590645807\n",
      "SD IL 10.576764520365993\n",
      "SD CL 0.15625120393377773\n"
     ]
    }
   ],
   "source": [
    "print (\"mean IL\" , np.mean (d7cci_il.atf3_per_nf_allrats))\n",
    "print (\"mean CL\" , np.mean (d7cci_cl.atf3_per_nf_allrats))\n",
    "print (\"SD IL\" , np.std (d7cci_il.atf3_per_nf_allrats))\n",
    "print (\"SD CL\" , np.std (d7cci_cl.atf3_per_nf_allrats))"
   ]
  },
  {
   "cell_type": "code",
   "execution_count": 12,
   "id": "245a564d",
   "metadata": {},
   "outputs": [
    {
     "name": "stdout",
     "output_type": "stream",
     "text": [
      "mean IL 8.082223349011551\n",
      "mean CL 0.20325806263809368\n",
      "SD IL 7.283813897585881\n",
      "SD CL 0.2006769962208686\n"
     ]
    }
   ],
   "source": [
    "print (\"mean IL\" , np.mean (d7cci_il.atf3_per_ib4_allrats))\n",
    "print (\"mean CL\" , np.mean (d7cci_cl.atf3_per_ib4_allrats))\n",
    "print (\"SD IL\" , np.std (d7cci_il.atf3_per_ib4_allrats))\n",
    "print (\"SD CL\" , np.std (d7cci_cl.atf3_per_ib4_allrats))"
   ]
  },
  {
   "cell_type": "code",
   "execution_count": null,
   "id": "d783a726",
   "metadata": {},
   "outputs": [],
   "source": []
  }
 ],
 "metadata": {
  "kernelspec": {
   "display_name": "Python 3",
   "language": "python",
   "name": "python3"
  },
  "language_info": {
   "codemirror_mode": {
    "name": "ipython",
    "version": 3
   },
   "file_extension": ".py",
   "mimetype": "text/x-python",
   "name": "python",
   "nbconvert_exporter": "python",
   "pygments_lexer": "ipython3",
   "version": "3.8.8"
  }
 },
 "nbformat": 4,
 "nbformat_minor": 5
}
