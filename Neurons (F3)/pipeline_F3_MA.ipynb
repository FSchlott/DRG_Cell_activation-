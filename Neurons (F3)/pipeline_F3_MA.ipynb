{
 "cells": [
  {
   "cell_type": "code",
   "execution_count": 1,
   "id": "dc04c011",
   "metadata": {},
   "outputs": [],
   "source": [
    "import matplotlib.pyplot as plt\n",
    "import numpy as np\n",
    "import os\n",
    "import getinfo_F3_MA #my file with calculations\n",
    "from tqdm.auto import tqdm\n",
    "import json"
   ]
  },
  {
   "cell_type": "code",
   "execution_count": 2,
   "id": "ce76a7f3",
   "metadata": {},
   "outputs": [],
   "source": [
    "#create a dictionary of subdirs per DRG for each staining\n",
    "def get_paths (rootdir):\n",
    "    subdirs_L4CL = []\n",
    "    subdirs_L5CL = []\n",
    "    subdirs_L4IL = []\n",
    "    subdirs_L5IL = []\n",
    "    for subdir, dirs, files in os.walk(rootdir):\n",
    "        if subdir.endswith (\"CL\\L4\"): \n",
    "            subdirs_L4CL.append(subdir)\n",
    "            #print (subdir)\n",
    "        elif subdir.endswith('IL\\L4'):\n",
    "            subdirs_L4IL.append(subdir)\n",
    "            #print (subdir)\n",
    "        elif subdir.endswith('CL\\L5'):\n",
    "            subdirs_L5CL.append(subdir)\n",
    "            #print (subdir)\n",
    "        elif subdir.endswith('IL\\L5'):\n",
    "            subdirs_L5IL.append(subdir)\n",
    "            #print (subdir)\n",
    "    return {'L4CL':subdirs_L4CL, 'L4IL':subdirs_L4IL, 'L5CL':subdirs_L5CL, 'L5IL':subdirs_L5IL}"
   ]
  },
  {
   "cell_type": "code",
   "execution_count": 3,
   "id": "14edbd2c",
   "metadata": {},
   "outputs": [],
   "source": [
    "d7_cci_F3 = get_paths(r\"E:\\Immunfluoreszenz\\rDRG_CCI_d7\\Tifs\\3-IB4_ATF3_NF\")"
   ]
  },
  {
   "cell_type": "code",
   "execution_count": 4,
   "id": "f69510ff",
   "metadata": {},
   "outputs": [],
   "source": [
    "#group = experimental group as defined above\n",
    "#name = string that will name the file\n",
    "def images_to_numbers(group, name):\n",
    "    results = []\n",
    "    for drg_group in tqdm(group):\n",
    "        #print (group)\n",
    "        for subdir in tqdm(group[drg_group]):\n",
    "            print (subdir)\n",
    "            data = getinfo_F3.ImageData(subdir)\n",
    "            results.append({\n",
    "                \"group\":drg_group,\n",
    "                \"path\":subdir, \n",
    "                \"nf_anz\": data.nf_anz_L, \n",
    "                \"ib4_anz\": data.ib4_anz_L, \n",
    "                \"atf3_anz\": data.atf3_anz_L, \n",
    "                \"atf3_nf_overlap_anz\": data.overlap_atf3_nf_anz_L,\n",
    "                \"atf3_ib4_overlap_anz\": data.overlap_atf3_ib4_anz_L, \n",
    "                \"nf_ib4_overlap_anz\": data.overlap_nf_ib4_anz_L,\n",
    "                \"atf3_per_ib4\": data.atf3_per_ib4_L,\n",
    "                \"atf3_per_nf\": data.atf3_per_nf_L,\n",
    "                \"ib4_per_nf\": data.ib4_per_nf_L, \n",
    "                \"ib4_per_atf3\": data.ib4_per_atf3_L,\n",
    "                \n",
    "                \"nf_sizes\": data.nf_sizes_L, \n",
    "                \"ib4_sizes\": data.ib4_sizes_L,\n",
    "                \"atf3_sizes\": data.atf3_sizes_L,\n",
    "                            })\n",
    "    with open(name+\".json\", \"w\") as file:\n",
    "        file.write(json.dumps(results, indent=4))"
   ]
  },
  {
   "cell_type": "code",
   "execution_count": 5,
   "id": "b2ebca10",
   "metadata": {
    "scrolled": false
   },
   "outputs": [
    {
     "data": {
      "application/vnd.jupyter.widget-view+json": {
       "model_id": "a593d2c906b74954b7702ae151634c8d",
       "version_major": 2,
       "version_minor": 0
      },
      "text/plain": [
       "  0%|          | 0/4 [00:00<?, ?it/s]"
      ]
     },
     "metadata": {},
     "output_type": "display_data"
    },
    {
     "data": {
      "application/vnd.jupyter.widget-view+json": {
       "model_id": "1a392aca2cb347b4b2d0c225556dabcf",
       "version_major": 2,
       "version_minor": 0
      },
      "text/plain": [
       "  0%|          | 0/6 [00:00<?, ?it/s]"
      ]
     },
     "metadata": {},
     "output_type": "display_data"
    },
    {
     "name": "stdout",
     "output_type": "stream",
     "text": [
      "E:\\Immunfluoreszenz\\rDRG_CCI_d7\\Tifs\\3-IB4_ATF3_NF\\R2\\CL\\L4\n"
     ]
    },
    {
     "data": {
      "application/vnd.jupyter.widget-view+json": {
       "model_id": "2b4572f0fb14492396fa310a55d8fdb2",
       "version_major": 2,
       "version_minor": 0
      },
      "text/plain": [
       "0it [00:00, ?it/s]"
      ]
     },
     "metadata": {},
     "output_type": "display_data"
    },
    {
     "name": "stdout",
     "output_type": "stream",
     "text": [
      "E:\\Immunfluoreszenz\\rDRG_CCI_d7\\Tifs\\3-IB4_ATF3_NF\\R3\\CL\\L4\n"
     ]
    },
    {
     "data": {
      "application/vnd.jupyter.widget-view+json": {
       "model_id": "6d8ff274571c49b0b74ad4d3f7ac4d5c",
       "version_major": 2,
       "version_minor": 0
      },
      "text/plain": [
       "0it [00:00, ?it/s]"
      ]
     },
     "metadata": {},
     "output_type": "display_data"
    },
    {
     "name": "stdout",
     "output_type": "stream",
     "text": [
      "E:\\Immunfluoreszenz\\rDRG_CCI_d7\\Tifs\\3-IB4_ATF3_NF\\R4\\CL\\L4\n"
     ]
    },
    {
     "data": {
      "application/vnd.jupyter.widget-view+json": {
       "model_id": "a984cbb1ad3646d6838d835a2fca0190",
       "version_major": 2,
       "version_minor": 0
      },
      "text/plain": [
       "0it [00:00, ?it/s]"
      ]
     },
     "metadata": {},
     "output_type": "display_data"
    },
    {
     "name": "stdout",
     "output_type": "stream",
     "text": [
      "E:\\Immunfluoreszenz\\rDRG_CCI_d7\\Tifs\\3-IB4_ATF3_NF\\R5\\CL\\L4\n"
     ]
    },
    {
     "data": {
      "application/vnd.jupyter.widget-view+json": {
       "model_id": "c89b80259f62491fa053773995d55d4d",
       "version_major": 2,
       "version_minor": 0
      },
      "text/plain": [
       "0it [00:00, ?it/s]"
      ]
     },
     "metadata": {},
     "output_type": "display_data"
    },
    {
     "name": "stdout",
     "output_type": "stream",
     "text": [
      "E:\\Immunfluoreszenz\\rDRG_CCI_d7\\Tifs\\3-IB4_ATF3_NF\\R6\\CL\\L4\n"
     ]
    },
    {
     "data": {
      "application/vnd.jupyter.widget-view+json": {
       "model_id": "c097bddb473f45eab60377188ce67dbc",
       "version_major": 2,
       "version_minor": 0
      },
      "text/plain": [
       "0it [00:00, ?it/s]"
      ]
     },
     "metadata": {},
     "output_type": "display_data"
    },
    {
     "name": "stdout",
     "output_type": "stream",
     "text": [
      "E:\\Immunfluoreszenz\\rDRG_CCI_d7\\Tifs\\3-IB4_ATF3_NF\\R7\\CL\\L4\n"
     ]
    },
    {
     "data": {
      "application/vnd.jupyter.widget-view+json": {
       "model_id": "5f6939cfef284300b9bc3d055867258e",
       "version_major": 2,
       "version_minor": 0
      },
      "text/plain": [
       "0it [00:00, ?it/s]"
      ]
     },
     "metadata": {},
     "output_type": "display_data"
    },
    {
     "data": {
      "application/vnd.jupyter.widget-view+json": {
       "model_id": "7fb7719cb47a45ccb195903bfafba63a",
       "version_major": 2,
       "version_minor": 0
      },
      "text/plain": [
       "  0%|          | 0/6 [00:00<?, ?it/s]"
      ]
     },
     "metadata": {},
     "output_type": "display_data"
    },
    {
     "name": "stdout",
     "output_type": "stream",
     "text": [
      "E:\\Immunfluoreszenz\\rDRG_CCI_d7\\Tifs\\3-IB4_ATF3_NF\\R2\\IL\\L4\n"
     ]
    },
    {
     "data": {
      "application/vnd.jupyter.widget-view+json": {
       "model_id": "bfed706614db42b28d12bb6b45af7085",
       "version_major": 2,
       "version_minor": 0
      },
      "text/plain": [
       "0it [00:00, ?it/s]"
      ]
     },
     "metadata": {},
     "output_type": "display_data"
    },
    {
     "name": "stdout",
     "output_type": "stream",
     "text": [
      "E:\\Immunfluoreszenz\\rDRG_CCI_d7\\Tifs\\3-IB4_ATF3_NF\\R3\\IL\\L4\n"
     ]
    },
    {
     "data": {
      "application/vnd.jupyter.widget-view+json": {
       "model_id": "9df6e26c5a2b446fb6d0546e3104df7e",
       "version_major": 2,
       "version_minor": 0
      },
      "text/plain": [
       "0it [00:00, ?it/s]"
      ]
     },
     "metadata": {},
     "output_type": "display_data"
    },
    {
     "name": "stdout",
     "output_type": "stream",
     "text": [
      "E:\\Immunfluoreszenz\\rDRG_CCI_d7\\Tifs\\3-IB4_ATF3_NF\\R4\\IL\\L4\n"
     ]
    },
    {
     "data": {
      "application/vnd.jupyter.widget-view+json": {
       "model_id": "12793612920b448784684fb844e7019b",
       "version_major": 2,
       "version_minor": 0
      },
      "text/plain": [
       "0it [00:00, ?it/s]"
      ]
     },
     "metadata": {},
     "output_type": "display_data"
    },
    {
     "name": "stdout",
     "output_type": "stream",
     "text": [
      "E:\\Immunfluoreszenz\\rDRG_CCI_d7\\Tifs\\3-IB4_ATF3_NF\\R5\\IL\\L4\n"
     ]
    },
    {
     "data": {
      "application/vnd.jupyter.widget-view+json": {
       "model_id": "6b3a83a8eeb54ab8a539f57bc5236360",
       "version_major": 2,
       "version_minor": 0
      },
      "text/plain": [
       "0it [00:00, ?it/s]"
      ]
     },
     "metadata": {},
     "output_type": "display_data"
    },
    {
     "name": "stdout",
     "output_type": "stream",
     "text": [
      "E:\\Immunfluoreszenz\\rDRG_CCI_d7\\Tifs\\3-IB4_ATF3_NF\\R6\\IL\\L4\n"
     ]
    },
    {
     "data": {
      "application/vnd.jupyter.widget-view+json": {
       "model_id": "81d592d5f11d44c592f182f129596bf5",
       "version_major": 2,
       "version_minor": 0
      },
      "text/plain": [
       "0it [00:00, ?it/s]"
      ]
     },
     "metadata": {},
     "output_type": "display_data"
    },
    {
     "name": "stdout",
     "output_type": "stream",
     "text": [
      "E:\\Immunfluoreszenz\\rDRG_CCI_d7\\Tifs\\3-IB4_ATF3_NF\\R7\\IL\\L4\n"
     ]
    },
    {
     "data": {
      "application/vnd.jupyter.widget-view+json": {
       "model_id": "be3f53e97e784b54859f0ecab9454133",
       "version_major": 2,
       "version_minor": 0
      },
      "text/plain": [
       "0it [00:00, ?it/s]"
      ]
     },
     "metadata": {},
     "output_type": "display_data"
    },
    {
     "data": {
      "application/vnd.jupyter.widget-view+json": {
       "model_id": "84b78cdfbfd7451f8360ce37e4143d16",
       "version_major": 2,
       "version_minor": 0
      },
      "text/plain": [
       "  0%|          | 0/6 [00:00<?, ?it/s]"
      ]
     },
     "metadata": {},
     "output_type": "display_data"
    },
    {
     "name": "stdout",
     "output_type": "stream",
     "text": [
      "E:\\Immunfluoreszenz\\rDRG_CCI_d7\\Tifs\\3-IB4_ATF3_NF\\R2\\CL\\L5\n"
     ]
    },
    {
     "data": {
      "application/vnd.jupyter.widget-view+json": {
       "model_id": "9a9cb5246d3b41d9953391742592d6cb",
       "version_major": 2,
       "version_minor": 0
      },
      "text/plain": [
       "0it [00:00, ?it/s]"
      ]
     },
     "metadata": {},
     "output_type": "display_data"
    },
    {
     "name": "stdout",
     "output_type": "stream",
     "text": [
      "E:\\Immunfluoreszenz\\rDRG_CCI_d7\\Tifs\\3-IB4_ATF3_NF\\R3\\CL\\L5\n"
     ]
    },
    {
     "data": {
      "application/vnd.jupyter.widget-view+json": {
       "model_id": "09adcd2abe4a4db6bcc7071212e7402d",
       "version_major": 2,
       "version_minor": 0
      },
      "text/plain": [
       "0it [00:00, ?it/s]"
      ]
     },
     "metadata": {},
     "output_type": "display_data"
    },
    {
     "name": "stdout",
     "output_type": "stream",
     "text": [
      "E:\\Immunfluoreszenz\\rDRG_CCI_d7\\Tifs\\3-IB4_ATF3_NF\\R4\\CL\\L5\n"
     ]
    },
    {
     "data": {
      "application/vnd.jupyter.widget-view+json": {
       "model_id": "aa867de0ef8a4293bd9ce8924909859c",
       "version_major": 2,
       "version_minor": 0
      },
      "text/plain": [
       "0it [00:00, ?it/s]"
      ]
     },
     "metadata": {},
     "output_type": "display_data"
    },
    {
     "name": "stdout",
     "output_type": "stream",
     "text": [
      "E:\\Immunfluoreszenz\\rDRG_CCI_d7\\Tifs\\3-IB4_ATF3_NF\\R5\\CL\\L5\n"
     ]
    },
    {
     "data": {
      "application/vnd.jupyter.widget-view+json": {
       "model_id": "04041d6523524f8a9a451032b632b68f",
       "version_major": 2,
       "version_minor": 0
      },
      "text/plain": [
       "0it [00:00, ?it/s]"
      ]
     },
     "metadata": {},
     "output_type": "display_data"
    },
    {
     "name": "stdout",
     "output_type": "stream",
     "text": [
      "E:\\Immunfluoreszenz\\rDRG_CCI_d7\\Tifs\\3-IB4_ATF3_NF\\R6\\CL\\L5\n"
     ]
    },
    {
     "data": {
      "application/vnd.jupyter.widget-view+json": {
       "model_id": "0c3295372c734a139a8d9603bb883f8d",
       "version_major": 2,
       "version_minor": 0
      },
      "text/plain": [
       "0it [00:00, ?it/s]"
      ]
     },
     "metadata": {},
     "output_type": "display_data"
    },
    {
     "name": "stdout",
     "output_type": "stream",
     "text": [
      "E:\\Immunfluoreszenz\\rDRG_CCI_d7\\Tifs\\3-IB4_ATF3_NF\\R7\\CL\\L5\n"
     ]
    },
    {
     "data": {
      "application/vnd.jupyter.widget-view+json": {
       "model_id": "9a76d612ec27479e9a70de8c6e981d9f",
       "version_major": 2,
       "version_minor": 0
      },
      "text/plain": [
       "0it [00:00, ?it/s]"
      ]
     },
     "metadata": {},
     "output_type": "display_data"
    },
    {
     "data": {
      "application/vnd.jupyter.widget-view+json": {
       "model_id": "29c7b0845e894c50a51bb326004aa24a",
       "version_major": 2,
       "version_minor": 0
      },
      "text/plain": [
       "  0%|          | 0/6 [00:00<?, ?it/s]"
      ]
     },
     "metadata": {},
     "output_type": "display_data"
    },
    {
     "name": "stdout",
     "output_type": "stream",
     "text": [
      "E:\\Immunfluoreszenz\\rDRG_CCI_d7\\Tifs\\3-IB4_ATF3_NF\\R2\\IL\\L5\n"
     ]
    },
    {
     "data": {
      "application/vnd.jupyter.widget-view+json": {
       "model_id": "bf668a9aad204b4b95c4ef99a20ad6f7",
       "version_major": 2,
       "version_minor": 0
      },
      "text/plain": [
       "0it [00:00, ?it/s]"
      ]
     },
     "metadata": {},
     "output_type": "display_data"
    },
    {
     "name": "stdout",
     "output_type": "stream",
     "text": [
      "E:\\Immunfluoreszenz\\rDRG_CCI_d7\\Tifs\\3-IB4_ATF3_NF\\R3\\IL\\L5\n"
     ]
    },
    {
     "data": {
      "application/vnd.jupyter.widget-view+json": {
       "model_id": "ff2fe06fd125407db32611fb471db21b",
       "version_major": 2,
       "version_minor": 0
      },
      "text/plain": [
       "0it [00:00, ?it/s]"
      ]
     },
     "metadata": {},
     "output_type": "display_data"
    },
    {
     "name": "stdout",
     "output_type": "stream",
     "text": [
      "E:\\Immunfluoreszenz\\rDRG_CCI_d7\\Tifs\\3-IB4_ATF3_NF\\R4\\IL\\L5\n"
     ]
    },
    {
     "data": {
      "application/vnd.jupyter.widget-view+json": {
       "model_id": "636b8102314f4d06ac0f35cab94afc0c",
       "version_major": 2,
       "version_minor": 0
      },
      "text/plain": [
       "0it [00:00, ?it/s]"
      ]
     },
     "metadata": {},
     "output_type": "display_data"
    },
    {
     "name": "stdout",
     "output_type": "stream",
     "text": [
      "E:\\Immunfluoreszenz\\rDRG_CCI_d7\\Tifs\\3-IB4_ATF3_NF\\R5\\IL\\L5\n"
     ]
    },
    {
     "data": {
      "application/vnd.jupyter.widget-view+json": {
       "model_id": "8854295fd33a417cb5ffcd5ae6cce96c",
       "version_major": 2,
       "version_minor": 0
      },
      "text/plain": [
       "0it [00:00, ?it/s]"
      ]
     },
     "metadata": {},
     "output_type": "display_data"
    },
    {
     "name": "stdout",
     "output_type": "stream",
     "text": [
      "E:\\Immunfluoreszenz\\rDRG_CCI_d7\\Tifs\\3-IB4_ATF3_NF\\R6\\IL\\L5\n"
     ]
    },
    {
     "data": {
      "application/vnd.jupyter.widget-view+json": {
       "model_id": "242cb05852f442308e45f3faf6175d8e",
       "version_major": 2,
       "version_minor": 0
      },
      "text/plain": [
       "0it [00:00, ?it/s]"
      ]
     },
     "metadata": {},
     "output_type": "display_data"
    },
    {
     "name": "stdout",
     "output_type": "stream",
     "text": [
      "E:\\Immunfluoreszenz\\rDRG_CCI_d7\\Tifs\\3-IB4_ATF3_NF\\R7\\IL\\L5\n"
     ]
    },
    {
     "data": {
      "application/vnd.jupyter.widget-view+json": {
       "model_id": "7de8cc272618487d8a1f40d8777b63a8",
       "version_major": 2,
       "version_minor": 0
      },
      "text/plain": [
       "0it [00:00, ?it/s]"
      ]
     },
     "metadata": {},
     "output_type": "display_data"
    }
   ],
   "source": [
    "images_to_numbers (d7_cci_F3 , \"F3_CCI_d7\")"
   ]
  },
  {
   "cell_type": "code",
   "execution_count": null,
   "id": "95065b2a",
   "metadata": {},
   "outputs": [],
   "source": []
  },
  {
   "cell_type": "code",
   "execution_count": null,
   "id": "5d37269c",
   "metadata": {},
   "outputs": [],
   "source": []
  },
  {
   "cell_type": "code",
   "execution_count": null,
   "id": "1be5dd9a",
   "metadata": {},
   "outputs": [],
   "source": []
  }
 ],
 "metadata": {
  "kernelspec": {
   "display_name": "Python 3",
   "language": "python",
   "name": "python3"
  },
  "language_info": {
   "codemirror_mode": {
    "name": "ipython",
    "version": 3
   },
   "file_extension": ".py",
   "mimetype": "text/x-python",
   "name": "python",
   "nbconvert_exporter": "python",
   "pygments_lexer": "ipython3",
   "version": "3.8.8"
  }
 },
 "nbformat": 4,
 "nbformat_minor": 5
}
